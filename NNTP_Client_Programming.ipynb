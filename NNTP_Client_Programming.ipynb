{
  "cells": [
    {
      "cell_type": "code",
      "execution_count": 22,
      "metadata": {
        "id": "Ukqn-TEFEbKP"
      },
      "outputs": [],
      "source": [
        "#import the nntp class and decode header\n",
        "from nntplib import NNTP, decode_header"
      ]
    },
    {
      "cell_type": "code",
      "execution_count": 23,
      "metadata": {
        "id": "ElhuaaX5EbKU"
      },
      "outputs": [],
      "source": [
        "#public news server- a USENET site\n",
        "n = NNTP('news.aioe.org')"
      ]
    },
    {
      "cell_type": "code",
      "execution_count": 24,
      "metadata": {
        "id": "WksEIMxyEbKW"
      },
      "outputs": [],
      "source": [
        "resp, count, first, last, name = n.group('comp.lang.python')"
      ]
    },
    {
      "cell_type": "code",
      "execution_count": 25,
      "metadata": {
        "id": "RVjLI4dEEbKX",
        "outputId": "c283556a-132a-4b05-8786-abe70bd7b990",
        "colab": {
          "base_uri": "https://localhost:8080/"
        }
      },
      "outputs": [
        {
          "output_type": "stream",
          "name": "stdout",
          "text": [
            "Group comp.lang.python has 2509 articles, range 239936 to 242451\n"
          ]
        }
      ],
      "source": [
        "print('Group', name, 'has', count, 'articles, range', first, 'to', last)"
      ]
    },
    {
      "cell_type": "code",
      "execution_count": 26,
      "metadata": {
        "id": "dEeM6EGlEbKX"
      },
      "outputs": [],
      "source": [
        "resp, overviews = n.over((first, first+10))\n",
        "#retrieve first ten articles\n",
        "#reading overview ie header content is only read"
      ]
    },
    {
      "cell_type": "code",
      "execution_count": 27,
      "metadata": {
        "id": "Ok6JgzenEbKY",
        "outputId": "e434976b-e0a8-4385-d37e-cfe46b0e53d9",
        "colab": {
          "base_uri": "https://localhost:8080/"
        }
      },
      "outputs": [
        {
          "output_type": "stream",
          "name": "stdout",
          "text": [
            "239942 Fundamentals of Corporate Finance 9th Edition by Brealey Solution manual\n",
            "239943 SMTBPORTAL(@)GMAIL(dot)COM\n",
            "239944 Decoding of EmailMessage text\n",
            "239945 Re: Making command-line args available to deeply-nested functions\n",
            "239946 Re: Decoding of EmailMessage text\n"
          ]
        }
      ],
      "source": [
        "for id, over in overviews:\n",
        "    print(id, decode_header(over['subject']))\n",
        "#here( 239946 Re: Decoding of EmailMessage text  ) is the reply given to the question asked in that usenet group"
      ]
    },
    {
      "cell_type": "code",
      "execution_count": 28,
      "metadata": {
        "id": "dJdCRqA4EbKZ",
        "outputId": "a529adf3-2b68-4e53-ee4c-1f78c7460019",
        "colab": {
          "base_uri": "https://localhost:8080/"
        }
      },
      "outputs": [
        {
          "output_type": "execute_result",
          "data": {
            "text/plain": [
              "12"
            ]
          },
          "metadata": {},
          "execution_count": 28
        }
      ],
      "source": [
        "from datetime import date, timedelta\n",
        "resp, groups = n.newgroups(date.today() - timedelta(weeks=30))\n",
        "len(groups) \n",
        "#here we check for last one month ie 30 days how many use groups are created"
      ]
    },
    {
      "cell_type": "code",
      "execution_count": 29,
      "metadata": {
        "id": "fkK3SpW6EbKa",
        "outputId": "5cf6455e-1c79-4263-bd25-68c597ecdc8a",
        "colab": {
          "base_uri": "https://localhost:8080/"
        }
      },
      "outputs": [
        {
          "output_type": "stream",
          "name": "stdout",
          "text": [
            "0 :  GroupInfo(group='rocksolid.shared.freenet', last='3', first='2', flag='y')\n",
            "1 :  GroupInfo(group='rocksolid.shared.linux', last='13', first='7', flag='y')\n",
            "2 :  GroupInfo(group='alt.comp.os.windows-11', last='1144', first='1', flag='y')\n",
            "3 :  GroupInfo(group='comp.infosystems.gemini', last='181', first='1', flag='y')\n",
            "4 :  GroupInfo(group='greenend.announce', last='0', first='1', flag='y')\n",
            "5 :  GroupInfo(group='greenend.commits', last='0', first='1', flag='y')\n",
            "6 :  GroupInfo(group='greenend.config', last='0', first='1', flag='y')\n",
            "7 :  GroupInfo(group='greenend.misc', last='0', first='1', flag='y')\n",
            "8 :  GroupInfo(group='greenend.relativity.private.rsvp', last='0', first='1', flag='y')\n",
            "9 :  GroupInfo(group='greenend.system', last='0', first='1', flag='y')\n",
            "10 :  GroupInfo(group='greenend.test', last='6', first='1', flag='y')\n",
            "11 :  GroupInfo(group='greenend.vpn', last='0', first='1', flag='y')\n"
          ]
        }
      ],
      "source": [
        "for i in range(len(groups)):\n",
        "    print(i, \": \", groups[i])\n",
        "    #here we list out that 12 groups which were created in the last 1 month ie 30 days"
      ]
    },
    {
      "cell_type": "code",
      "execution_count": 30,
      "metadata": {
        "id": "JefxAL4cEbKb"
      },
      "outputs": [],
      "source": [
        "resp, count, first, last, name = n.group('it.eventi.covid19')"
      ]
    },
    {
      "cell_type": "code",
      "execution_count": 31,
      "metadata": {
        "id": "QCbVtgtDEbKb",
        "outputId": "f9a79d13-140c-4b7e-c7ef-b5298601bda3",
        "colab": {
          "base_uri": "https://localhost:8080/"
        }
      },
      "outputs": [
        {
          "output_type": "stream",
          "name": "stdout",
          "text": [
            "Group it.eventi.covid19 has 1274 articles, range 2675 to 3960\n"
          ]
        }
      ],
      "source": [
        "print('Group', name, 'has', count, 'articles, range', first, 'to', last)"
      ]
    },
    {
      "cell_type": "code",
      "execution_count": 32,
      "metadata": {
        "id": "TLXl8KaLEbKe",
        "outputId": "a7e60c29-dc45-4444-94b4-6cb2fc11cb7b",
        "colab": {
          "base_uri": "https://localhost:8080/"
        }
      },
      "outputs": [
        {
          "output_type": "stream",
          "name": "stdout",
          "text": [
            "2675 Re: Ristoranti #ioapro\n",
            "2676 Re: I vaccini Pfizer e Moderna sono cacca purissima\n",
            "2677 Re: I vaccini Pfizer e Moderna sono cacca purissima\n",
            "2678 Re: E si, il sud si distingue sempre\n",
            "2679 Covid: è morto Larry King, leggendario giornalista della Cnn\n",
            "2680 Test sierologici in farmacia\n",
            "2681 [MEMORIA STORICA] come PD+M5S hanno gestito il forno crematorio Covid di II°ondata e come PD+M5S preparano la III°ondata Covid (immune ai vaccini)\n",
            "2682 [SOSTITUZIONE ETNICA] nel 2021 arriveranno oltre 50mila immigrati clandestini!\n",
            "2683 L'importanza della Memoria Storica\n",
            "2684 Ecco ... Il Cetriolone globale\n",
            "2685 Re: [taNpone anale] Dubbio\n"
          ]
        }
      ],
      "source": [
        "resp, overviews = n.over((first, first+10))\n",
        "for id, over in overviews:\n",
        "    print(id, decode_header(over['subject']))"
      ]
    },
    {
      "cell_type": "code",
      "execution_count": 33,
      "metadata": {
        "id": "qgVyypHVEbKg",
        "outputId": "587a5c7a-7014-4c12-ea8e-0778f026c87b",
        "colab": {
          "base_uri": "https://localhost:8080/"
        }
      },
      "outputs": [
        {
          "output_type": "stream",
          "name": "stdout",
          "text": [
            "2675 <rufdh9$dgh$1@gioia.aioe.org>\n",
            "2676 <rufdns$gs9$1@gioia.aioe.org>\n",
            "2677 <rufe28$lag$1@gioia.aioe.org>\n",
            "2678 <rufnit$muh$1@dont-email.me>\n",
            "2679 <ruh8gs$vp$1@dont-email.me>\n",
            "2680 <ruhegb$jnn$1@gioia.aioe.org>\n",
            "2681 <ruovuv$1ur9$1@gioia.aioe.org>\n",
            "2682 <ruput9$rce$3@gioia.aioe.org>\n",
            "2683 <rurdns$qj$1@dont-email.me>\n",
            "2684 <rusqvg$1h68$1@gioia.aioe.org>\n",
            "2685 <3of51gdgvmdu4d3m8io9bq3l4h2c9lrh2f@4ax.com>\n"
          ]
        }
      ],
      "source": [
        "for id, over in overviews:\n",
        "    print(id, decode_header(over['message-id']))"
      ]
    },
    {
      "cell_type": "code",
      "execution_count": 34,
      "metadata": {
        "id": "t7n832m1EbKh"
      },
      "outputs": [],
      "source": [
        "resp, info = n.article('<rufdh9$dgh$1@gioia.aioe.org>')\n",
        "#retrieving rticle lines in info"
      ]
    },
    {
      "cell_type": "code",
      "execution_count": 36,
      "metadata": {
        "id": "EiXd7x4NEbKi",
        "outputId": "b1e40b31-633a-4a42-f653-69f22d771dd3",
        "colab": {
          "base_uri": "https://localhost:8080/"
        }
      },
      "outputs": [
        {
          "output_type": "stream",
          "name": "stdout",
          "text": [
            "b'Path: aioe.org!2uZVLtuvwFqm91zc5S3piw.user.gioia.aioe.org.POSTED!not-for-mail'\n",
            "b'From: \"Ermete@pc00\" <user01@despammed.com>'\n",
            "b'Newsgroups: it.eventi.covid19'\n",
            "b'Subject: Re: Ristoranti #ioapro'\n",
            "b'Date: Fri, 22 Jan 2021 21:45:29 +0100 (GMT+01:00)'\n",
            "b'Organization: news.aioe.org'\n",
            "b'Lines: 11'\n",
            "b'Message-ID: <rufdh9$dgh$1@gioia.aioe.org>'\n",
            "b'References: <bdm50g9jv6sedakr31bjb9cr3gjeirphpi@4ax.com> <ru3nof$n85$1@gioia.aioe.org>'\n",
            "b'NNTP-Posting-Host: 2uZVLtuvwFqm91zc5S3piw.user.gioia.aioe.org'\n",
            "b'Mime-Version: 1.0'\n",
            "b'Content-Type: text/plain; charset=ISO-8859-1'\n",
            "b'Content-Transfer-Encoding: 8bit'\n",
            "b'X-Complaints-To: abuse@aioe.org'\n",
            "b'X-Notice: Filtered by postfilter v. 0.9.2'\n",
            "b'X-Newsreader: PiaoHong.Usenet.Client.Free:1.65'\n",
            "b'Xref: aioe.org it.eventi.covid19:2675'\n",
            "b''\n",
            "b'GMG <ejijg@scubatin.it> ha scritto:'\n",
            "b'> Il 16/01/2021 13:22, Bernardo Rossi ha scritto:> Venerdi 15 alcuni ristoranti hanno aperto sotto alla bandiera #ioapro.> Piccolo sondaggio:> > Qualcuno qui ne ha approffittato ed \\xe8 andato a mangiare?> Eravate tranquilli oppure intimoriti dalla possibile retata della> polizia?> La polizia poi da voi \\xe8 venuta oppure no? Conseguenze?> > nel mio minuscolo paesello non ha riapertonessuno nondimeno i carabinieri(abbiamo una piccola stazione di carabinieri)sabato sera hanno fatto un bel po\\'di \"avvisi\" ed anche di multe (per i recidivi)a chi hanno beccato girellare in piazza,spesso in piccoli assembramenti, senza motivovalido...la cosa va cos\\xec: \"cosa fate, dove andate?\"se non c\\'\\xe8 risposta valida fanno l\\'invitoa rientrare subito nelle proprie abitazionise ti \"ribeccano\" l\\'ora dopo in piazzascatta la sanzionene hanno \"ribeccati\" in una ventinasecondo me sono cretini perch\\xe8 se vuoi \"passeggiare\"o \"prendere aria\" da noi ci sono dei sentieri nei boschi che non titroverebbe nessuno e saresti ancheisolato dal contagio,passeggiarein centro per \"farsi vedere\" \\xe8 da imbecilli,anzi no: \\xe8 da multa!'\n",
            "b'-- '\n",
            "b''\n",
            "b'Ottimo per gli omicidi e i suicidi.'\n",
            "b''\n",
            "b'Insomma ci si pu\\xf2 assembrare solo negli ospedali e nei supermercati '\n",
            "b''\n",
            "b''\n",
            "b'----Android NewsGroup Reader----'\n",
            "b'http://usenet.sinaapp.com/'\n"
          ]
        }
      ],
      "source": [
        "for i in range(len(info.lines)):\n",
        "    print(info.lines[i])            \n",
        "#printing those article lines"
      ]
    },
    {
      "cell_type": "code",
      "execution_count": 37,
      "metadata": {
        "id": "cSjScfdtEbKj"
      },
      "outputs": [],
      "source": [
        "rsp, ct, fst, lst, grp = n.group('comp.lang.python')"
      ]
    },
    {
      "cell_type": "code",
      "execution_count": 38,
      "metadata": {
        "id": "byQqZBHfEbKj"
      },
      "outputs": [],
      "source": [
        "rng = '%s-%s' %(lst, lst)"
      ]
    },
    {
      "cell_type": "code",
      "execution_count": 39,
      "metadata": {
        "id": "9eYGAn5zEbKj"
      },
      "outputs": [],
      "source": [
        "rsp, frm = n.xhdr('from', rng)"
      ]
    },
    {
      "cell_type": "code",
      "execution_count": 40,
      "metadata": {
        "id": "DR9247KeEbKk"
      },
      "outputs": [],
      "source": [
        "rsp, sub = n.xhdr('subject', rng)"
      ]
    },
    {
      "cell_type": "code",
      "execution_count": 41,
      "metadata": {
        "id": "S6QNR6JhEbKk"
      },
      "outputs": [],
      "source": [
        "rsp, dat = n.xhdr('date', rng)"
      ]
    },
    {
      "cell_type": "code",
      "execution_count": 42,
      "metadata": {
        "id": "E_5oMsR_EbKl",
        "outputId": "bc34a621-8495-46d1-97b8-ef2ece0b76dc",
        "colab": {
          "base_uri": "https://localhost:8080/"
        }
      },
      "outputs": [
        {
          "output_type": "stream",
          "name": "stdout",
          "text": [
            "Found last article (#242451):\n",
            "\n",
            "From: =?UTF-8?B?RVRFTSDDh0VUxLBOIFRPUFRBTsSw?= <etemcetin.toptani@std.yeditepe.edu.tr>\n",
            "Subject: A Short Survey To Understand Practitioner' Perspectives Towards The Requirements Engineering\n",
            "Date: Thu, 3 Feb 2022 10:26:11 +0300\n",
            "\n"
          ]
        }
      ],
      "source": [
        "print('''Found last article (#%s):\n",
        "\n",
        "From: %s\n",
        "Subject: %s\n",
        "Date: %s\n",
        "''' % (lst, frm[0][1], sub[0][1], dat[0][1]))"
      ]
    },
    {
      "cell_type": "code",
      "execution_count": 43,
      "metadata": {
        "id": "QKthS3EwEbKm",
        "outputId": "b470d55f-78f6-4802-c83e-e16908b75ad7",
        "colab": {
          "base_uri": "https://localhost:8080/"
        }
      },
      "outputs": [
        {
          "output_type": "stream",
          "name": "stdout",
          "text": [
            "b'Dear Sir or Madam,'\n",
            "b''\n",
            "b''\n",
            "b'We prepared a short survey to understand practitioners=E2=80=99 perspective='\n",
            "b's'\n",
            "b'towards the requirements engineering. Our survey basically aims to clarify'\n",
            "b'on many aspects of the requirements engineering applied in industry, includ='\n",
            "b'ing'\n",
            "b'(i) requirements gathering and specifications, (ii) requirements'\n",
            "b'modifications, (iii) requirements analysis, and (iv) requirements'\n",
            "b'transformation. The survey results will be submitted to a reputable journal'\n",
            "b'on software engineering.'\n",
            "b''\n",
            "b''\n",
            "b'The survey takes about 2-5 minutes to participate, we would be so grateful'\n",
            "b'if you could separate your time. Also, please circulate the email to anyone'\n",
            "b'who may be interested.'\n",
            "b''\n",
            "b''\n",
            "b'The survey link: https://forms.gle/DhLqr15GXVhJhzzy6'\n",
            "b''\n",
            "b''\n",
            "b'All the best,'\n",
            "b''\n",
            "b' Etem =C3=87etin Toptani'\n",
            "b''\n",
            "b'--=20'\n",
            "b'*Bu mesaj=C4=B1 yazd=C4=B1rmadan =C3=B6nce =C3=A7evreye verebilece=C4=9Fini='\n",
            "b'z zararlar=C4=B1 bir kez daha=20'\n",
            "b'd=C3=BC=C5=9F=C3=BCn=C3=BCn=C3=BCz.=C2=A0*'\n",
            "b'*Think of the environment once more before printing out this=20'\n",
            "b'message.*'\n",
            "b''\n",
            "b'--=20'\n",
            "b'*Bu mesaj=C4=B1 yazd=C4=B1rmadan =C3=B6nce =C3=A7evreye verebilece=C4=9Fini='\n",
            "b'z zararlar=C4=B1 bir kez daha=20'\n",
            "b'd=C3=BC=C5=9F=C3=BCn=C3=BCn=C3=BCz.=C2=A0*'\n",
            "b'*Think of the environment once more before printing out this=20'\n",
            "b'message.*'\n"
          ]
        }
      ],
      "source": [
        "ainfo = n.body(lst)\n",
        "for x in ainfo[1].lines:\n",
        "    print(x)"
      ]
    },
    {
      "cell_type": "code",
      "execution_count": 44,
      "metadata": {
        "id": "M1BSryS0EbKm",
        "outputId": "8a4436e1-63c3-411c-9650-81da52ddacc2",
        "colab": {
          "base_uri": "https://localhost:8080/",
          "height": 35
        }
      },
      "outputs": [
        {
          "output_type": "execute_result",
          "data": {
            "application/vnd.google.colaboratory.intrinsic+json": {
              "type": "string"
            },
            "text/plain": [
              "'205 Bye!'"
            ]
          },
          "metadata": {},
          "execution_count": 44
        }
      ],
      "source": [
        "n.quit()"
      ]
    }
  ],
  "metadata": {
    "kernelspec": {
      "display_name": "Python 3",
      "language": "python",
      "name": "python3"
    },
    "language_info": {
      "codemirror_mode": {
        "name": "ipython",
        "version": 3
      },
      "file_extension": ".py",
      "mimetype": "text/x-python",
      "name": "python",
      "nbconvert_exporter": "python",
      "pygments_lexer": "ipython3",
      "version": "3.8.5"
    },
    "colab": {
      "name": "NNTP Client Programming.ipynb",
      "provenance": []
    }
  },
  "nbformat": 4,
  "nbformat_minor": 0
}