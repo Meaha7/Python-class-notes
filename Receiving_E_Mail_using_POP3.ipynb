{
  "cells": [
    {
      "cell_type": "code",
      "execution_count": null,
      "metadata": {
        "id": "Q74-ooQJZp4e"
      },
      "outputs": [],
      "source": [
        "from poplib import POP3_SSL\n",
        "import getpass\n",
        "import logging"
      ]
    },
    {
      "cell_type": "code",
      "execution_count": null,
      "metadata": {
        "id": "1XcTCrRwZp4l"
      },
      "outputs": [],
      "source": [
        "logging.debug('connecting to gmail')\n"
      ]
    },
    {
      "cell_type": "code",
      "execution_count": null,
      "metadata": {
        "id": "mMKFrZfnZp4m"
      },
      "outputs": [],
      "source": [
        "server = POP3_SSL('pop.gmail.com')"
      ]
    },
    {
      "cell_type": "code",
      "execution_count": null,
      "metadata": {
        "id": "DxkIYIc5Zp4n"
      },
      "outputs": [],
      "source": [
        "logging.debug('log in')\n",
        "\n"
      ]
    },
    {
      "cell_type": "code",
      "execution_count": null,
      "metadata": {
        "id": "CyEOFqo3Zp4o",
        "outputId": "fc48f397-82dd-42f2-c423-59cb332cf9d4"
      },
      "outputs": [
        {
          "data": {
            "text/plain": [
              "b'+OK send PASS'"
            ]
          },
          "execution_count": 5,
          "metadata": {},
          "output_type": "execute_result"
        }
      ],
      "source": [
        "server.user(\"kamakshi@cse.sastra.ac.in\")"
      ]
    },
    {
      "cell_type": "code",
      "execution_count": null,
      "metadata": {
        "id": "EuZAVGO1Zp4q",
        "outputId": "e782cb31-00a5-4444-d6ef-7c8063ad53d6"
      },
      "outputs": [
        {
          "name": "stdout",
          "output_type": "stream",
          "text": [
            "Enter your password: ········\n"
          ]
        },
        {
          "data": {
            "text/plain": [
              "b'+OK Welcome.'"
            ]
          },
          "execution_count": 6,
          "metadata": {},
          "output_type": "execute_result"
        }
      ],
      "source": [
        "server.pass_(getpass.getpass(\"Enter your password: \"))"
      ]
    },
    {
      "cell_type": "code",
      "execution_count": null,
      "metadata": {
        "id": "hXRZ1SJTZp4r",
        "outputId": "6f1dfc88-c746-4e92-a2a9-138b151d5ac2"
      },
      "outputs": [
        {
          "name": "stdout",
          "output_type": "stream",
          "text": [
            "b'Delivered-To: kamakshi@cse.sastra.ac.in'\n",
            "b'Received: by 10.80.190.66 with SMTP id b2csp353643edi;'\n",
            "b'        Wed, 27 Sep 2017 21:47:25 -0700 (PDT)'\n",
            "b'X-Google-Smtp-Source: AOwi7QA7bZOcPP0X3XUnBt0Tr96okpkRCVh+4iSlV2ILlKWXo7u6HGlf8m8ivjzxqCyVWvRqGWqy'\n",
            "b'X-Received: by 10.98.198.202 with SMTP id x71mr3167572pfk.349.1506574045276;'\n",
            "b'        Wed, 27 Sep 2017 21:47:25 -0700 (PDT)'\n",
            "b'ARC-Seal: i=1; a=rsa-sha256; t=1506574045; cv=none;'\n",
            "b'        d=google.com; s=arc-20160816;'\n",
            "b'        b=HjxfqdRACEjbSK7/6pxX2+sRQmGQgFDAm5iV3AALawWZaU4nTlMUDoLBChDUJhoccl'\n",
            "b'         lcchJgw8DRSBnm9O/xkbDaGGXq7gJNr2VIO1eN7zknfIB/bBURHf1eMeF1Fk4z5/pqSn'\n",
            "b'         8oJEdqdyQcq1PHl0P+d3jb8+S0fjsk9RKOWuqhEmDPPpPBo80XMUl8t/O7t/Ie6LmqPZ'\n",
            "b'         Byh/OFU1yJPo8ofQeE3oK9qQZxX2WAKLr3mIsCyNn6v5G0qc1VYBMJlPKrDLwoHkv1zz'\n",
            "b'         524eWP/3VIKc0DtUBfFZPK7rfqv9ENCZjED4+7ib4ET2tO+sts0oaO10n5N5MCYSrwCL'\n",
            "b'         Solg=='\n",
            "b'ARC-Message-Signature: i=1; a=rsa-sha256; c=relaxed/relaxed; d=google.com; s=arc-20160816;'\n",
            "b'        h=thread-index:thread-topic:mime-version:subject:in-reply-to'\n",
            "b'         :message-id:to:from:date:arc-authentication-results;'\n",
            "b'        bh=LqtM0U8plWv0i/yTvpJ0G4P6rvdhzg3P2Iyx35T0boA=;'\n",
            "b'        b=D46HU0Yan+ietn+z5GMQPC6AVAYOQNq8b2xicbBltIyhRU6v0kXd2RupdlgbDZecsM'\n",
            "b'         0HCrkQ1VwTYWM2Vua+RNGQ522s1WJ3QNb1jMXzsd6+CteLMabeaRyGmEbWMVSSfdm+XO'\n",
            "b'         YPvxGLqir7zQas2hiS+5IRkFoeH2wtI9Rdr2O+NJ89/so7p7MTruX4IiXzkKd+CV+HO3'\n",
            "b'         50XtbhFfIemdz2VMzUbaTZYW4EyMd+oNvnk7rMHeYkt0O/kwkAtHrSO8ECzVwLNOCmUy'\n",
            "b'         CYHLluKT8E0P8Y8fZk8py2gtHHfWJtg/3e9t4mkuFGzHGGa8zyUxKird3ZY91LvxDxwu'\n",
            "b'         wlFg=='\n",
            "b'ARC-Authentication-Results: i=1; mx.google.com;'\n",
            "b'       spf=pass (google.com: best guess record for domain of kamakshi@cse.sastra.edu designates 220.225.137.244 as permitted sender) smtp.mailfrom=kamakshi@cse.sastra.edu'\n",
            "b'Return-Path: <kamakshi@cse.sastra.edu>'\n",
            "b'Received: from mailgate.sastra.edu (mailgate.sastra.edu. [220.225.137.244])'\n",
            "b'        by mx.google.com with ESMTP id q11si609108pli.816.2017.09.27.21.47.23'\n",
            "b'        for <kamakshi@cse.sastra.ac.in>;'\n",
            "b'        Wed, 27 Sep 2017 21:47:25 -0700 (PDT)'\n",
            "b'Received-SPF: pass (google.com: best guess record for domain of kamakshi@cse.sastra.edu designates 220.225.137.244 as permitted sender) client-ip=220.225.137.244;'\n",
            "b'Authentication-Results: mx.google.com;'\n",
            "b'       spf=pass (google.com: best guess record for domain of kamakshi@cse.sastra.edu designates 220.225.137.244 as permitted sender) smtp.mailfrom=kamakshi@cse.sastra.edu'\n",
            "b'X-AuditID: c0a80a0d-f79976d000003204-8a-59cc83759eeb'\n",
            "b'Received: from mail.sastra.edu (Unknown_Domain [192.168.10.12])'\n",
            "b'\\tby mailgate.sastra.edu (Symantec Messaging Gateway) with SMTP id A9.07.12804.5738CC95; Thu, 28 Sep 2017 10:37:01 +0530 (IST)'\n",
            "b'Received: from localhost (localhost [127.0.0.1])'\n",
            "b'\\tby mail.sastra.edu (Postfix) with ESMTP id 9A34A8CC087D;'\n",
            "b'\\tThu, 28 Sep 2017 10:31:17 +0530 (IST)'\n",
            "b'Received: from mail.sastra.edu ([127.0.0.1])'\n",
            "b'\\tby localhost (mail.sastra.edu [127.0.0.1]) (amavisd-new, port 10032)'\n",
            "b'\\twith ESMTP id 3KhdpRVh6qA3; Thu, 28 Sep 2017 10:31:17 +0530 (IST)'\n",
            "b'Received: from localhost (localhost [127.0.0.1])'\n",
            "b'\\tby mail.sastra.edu (Postfix) with ESMTP id 1705D8CC08DE;'\n",
            "b'\\tThu, 28 Sep 2017 10:31:17 +0530 (IST)'\n",
            "b'X-Virus-Scanned: amavisd-new at mail.sastra.edu'\n",
            "b'Received: from mail.sastra.edu ([127.0.0.1])'\n",
            "b'\\tby localhost (mail.sastra.edu [127.0.0.1]) (amavisd-new, port 10026)'\n",
            "b'\\twith ESMTP id EC8hFQRVz6L9; Thu, 28 Sep 2017 10:31:16 +0530 (IST)'\n",
            "b'Received: from mail.sastra.edu (mail.sastra.edu [192.168.10.12])'\n",
            "b'\\tby mail.sastra.edu (Postfix) with ESMTP id DBC168CC087D;'\n",
            "b'\\tThu, 28 Sep 2017 10:31:16 +0530 (IST)'\n",
            "b'Date: Thu, 28 Sep 2017 10:31:16 +0530 (IST)'\n",
            "b'From: kamakshi@cse.sastra.edu'\n",
            "b'To: kamakshi@cse.sastra.ac.in, sumukha kamalesh <sumukha.kamali@gmail.com>'\n",
            "b'Message-ID: <1739925476.946752.1506574876657.JavaMail.root@cse.sastra.edu>'\n",
            "b'In-Reply-To: <1982314266.946711.1506574854212.JavaMail.root@cse.sastra.edu>'\n",
            "b'Subject: Multi files c program'\n",
            "b'MIME-Version: 1.0'\n",
            "b'Content-Type: multipart/mixed; '\n",
            "b'\\tboundary=\"----=_Part_946746_1876847223.1506574876653\"'\n",
            "b'X-Originating-IP: [172.22.65.238]'\n",
            "b'X-Mailer: Zimbra 8.0.3_GA_5664 (ZimbraWebClient - FF44 (Linux)/8.0.3_GA_5664)'\n",
            "b'Thread-Topic: Multi files c program'\n",
            "b'Thread-Index: 6qfhhC8DEpyTCmhFszNNn0dqtlEHQw=='\n",
            "b'X-Brightmail-Tracker: H4sIAAAAAAAAA11Uf0wTZxjO15Zy1PvYcS3wcQMZ9QfZL9ToEv9wbGZbwnRbnJppNxc84Wwb'\n",
            "b'\\tStvctUjnmjBQ4iQmzSg4+aWLmyPDbOJCOrNNWAMZiAwmxiqGTVTMxtgCW8zmdLrvu7uWq/98'\n",
            "b'\\tee553u993vfpl1J69oyJo5xunyC6eZfVaDL0dZrop/11520r972fvnbkTq9+7eX5G+B5XUm0'\n",
            "b'\\toweUnGmZTN2ke9O0rlxwOasEcUXxTpPjZOe80Rumq29M/5JSAyKLDoI0CjFr0Hikz6DgLDT2'\n",
            "b'\\t0xfGg8BEscxZgBpnQynKRyNA3eEGoHxEAGq735OaUMbHJnTK/RVo8uKoIVF1te60ev84QCdb'\n",
            "b'\\tp2UXA/MkOtL9kXzDyOShfd//LGMLswHdmR9NIRhiXDfRZSQ4jdmIuuqvy7yZWYwGRmoNSk0G'\n",
            "b'\\tGjpyE2OK0jPbUOQvmkDEFKAHt23KPK+iwQ96AaEtzBI0c3G1YlSE7g+0GUIgs0XTp2WhD6H1'\n",
            "b'\\tzNvo+OFOnYIL0b2OC3oF56PI7216pXw5OrHfmkwT/BS69WdMxWtQ6HJ7qoILULhhSsWPo9HB'\n",
            "b'\\tWtV1FTpwyqItOQbgZ8BcyTtddt4nFEm85BP5IqHcfxooPz78Ckz1vxQFDAWsNKz5ZNjGpvBV'\n",
            "b'\\tUqAyCioonTUT/uA8b2PTd3nKAw5ecpSKfpcgWS1wSQDTMEHv8rsqrBwMvotZc4J1C3skl+DD'\n",
            "b'\\tr826GDqaBm1sdkKT/JLXWeb0+KVSv+iKgqV45uunusYAZ3B73AK2yPUSi3I+8I4gehTjKHiU'\n",
            "b'\\tMlizYU5weDvLkJUqBMEriHG1DqfAtH6+0AXBw0HcJUMU7EL1bqfLF6/FTf7YixVGq8hb5MH1'\n",
            "b'\\t63AKWVpBs0gBfJHInFZ+eBcdlRYFdorGS4jEHkpevlJy2lVrM2zfg1k6zsq2ObCvGpNsnNRY'\n",
            "b'\\t5sHXmnF2WXEp2e4caAJUqHb8no46cGUSnx/K51n5vHmp4z8dK2fBZcMwGYYhbRx+dyIKLgtu'\n",
            "b'\\tJP0f0QhkJC4XVnJDNjZTwy9MxT0GV5IgcjRq8mAzoAw/KjPsJK40/tNZSICFO8hLWaSScgAI'\n",
            "b'\\tbiBchspp9s+Fm8h8marysIsdv1MLPESeF5R8vE8b9BXC0nFWDfpHQrJxMinoC01y0KqU7MTV'\n",
            "b'\\tgGe3XDpXtvruTO4bRfvrh+6GXqhf1j8wYTm0RVr6zMvvlfT8Ollsbz4xcu3fa/bYK6XTm1+f'\n",
            "b'\\trdo6VzgV++6b5rfyjIWNA8Yd3fTHtlubj1rCc0fzh3dK+dH0v8OjPlh8O9jbH1jvYT+1z8ao'\n",
            "b'\\tf45NXf2taveX1LdzseekhmDrso726q+3LrcaJAe/6gm9KPH/AwFmyMjMBQAA'\n",
            "b''\n",
            "b'------=_Part_946746_1876847223.1506574876653'\n",
            "b'Content-Type: multipart/alternative; '\n",
            "b'\\tboundary=\"----=_Part_946747_1931469825.1506574876653\"'\n",
            "b''\n",
            "b'------=_Part_946747_1931469825.1506574876653'\n",
            "b'Content-Type: text/plain; charset=utf-8'\n",
            "b'Content-Transfer-Encoding: 7bit'\n",
            "b''\n",
            "b''\n",
            "b'------=_Part_946747_1931469825.1506574876653'\n",
            "b'Content-Type: text/html; charset=utf-8'\n",
            "b'Content-Transfer-Encoding: 7bit'\n",
            "b''\n",
            "b''\n",
            "b'------=_Part_946747_1931469825.1506574876653--'\n",
            "b''\n",
            "b'------=_Part_946746_1876847223.1506574876653'\n",
            "b'Content-Type: text/x-c++src; name=mulfiles.c'\n",
            "b'Content-Disposition: attachment; filename=mulfiles.c'\n",
            "b'Content-Transfer-Encoding: base64'\n",
            "b''\n",
            "b'I2luY2x1ZGU8c3RkaW8uaD4KI2luY2x1ZGU8c3RyaW5nLmg+Cgp2b2lkIG1haW4oKQp7CiBpbnQg'\n",
            "b'bixpOwoKIHByaW50ZigiRW50ZXIgdGhlIG51bWJlciBvZiBzdHJpbmdzOiAgIik7CiBzY2FuZigi'\n",
            "b'JWQiLCZuKTsKCiBjaGFyICoqczsKIAogcyA9KGNoYXIqKiltYWxsb2MobipzaXplb2YoY2hhciAq'\n",
            "b'KSk7CiBpZihzID09IE5VTEwpCiB7CiAgcHJpbnRmKCJcbk1lbW9yeSBjb3VsZCBub3QgYmUgYWxs'\n",
            "b'b2NhdGVkIik7CiAgZXhpdCgtMSk7CiB9CiAKCiAKCiBmb3IoaT0wO2k8bjtpKyspCiB7CiAgcHJp'\n",
            "b'bnRmKCJUaGUgc3RyaW5nICVkIDogICIsaSsxKTsKICBwdXRzKHNbaV0pOwogfQoKfQo='\n",
            "b'------=_Part_946746_1876847223.1506574876653'\n",
            "b'Content-Type: text/x-c++src; name=fileA.c'\n",
            "b'Content-Disposition: attachment; filename=fileA.c'\n",
            "b'Content-Transfer-Encoding: base64'\n",
            "b''\n",
            "b'dm9pZCBSZWFkU3RyQXJyKGNoYXIqKiBzLGludCBuKQp7CiBjaGFyIHN0clsxMDBdOwogaW50IGk7'\n",
            "b'CiBmb3IoaT0wO2k8bjtpKyspCiB7CiAgcHJpbnRmKCJFbnRlciB0aGUgc3RyaW5nICVkIDogICIs'\n",
            "b'aSsxKTsKICBzY2FuZigiW15cbl0iLHN0cik7CiAgc1tpXT0gKGNoYXIgKiltYWxsb2Moc3RybGVu'\n",
            "b'CiAgCiB9Cn0K'\n",
            "b'------=_Part_946746_1876847223.1506574876653--'\n"
          ]
        }
      ],
      "source": [
        "logging.debug('listing emails')\n",
        "resp, items, octets = server.list()\n",
        "id, size = items[0].split()\n",
        "resp, text, octets = server.retr(int(id))\n",
        "for line in text:\n",
        "    print(line)"
      ]
    },
    {
      "cell_type": "code",
      "execution_count": null,
      "metadata": {
        "id": "hRyfxdxXZp4s",
        "outputId": "0544f3d7-965c-44ad-b17d-ae4505e8f2f4"
      },
      "outputs": [
        {
          "data": {
            "text/plain": [
              "b'+OK Farewell.'"
            ]
          },
          "execution_count": 8,
          "metadata": {},
          "output_type": "execute_result"
        }
      ],
      "source": [
        "server.quit()"
      ]
    }
  ],
  "metadata": {
    "kernelspec": {
      "display_name": "Python 3",
      "language": "python",
      "name": "python3"
    },
    "language_info": {
      "codemirror_mode": {
        "name": "ipython",
        "version": 3
      },
      "file_extension": ".py",
      "mimetype": "text/x-python",
      "name": "python",
      "nbconvert_exporter": "python",
      "pygments_lexer": "ipython3",
      "version": "3.8.5"
    },
    "colab": {
      "name": "Receiving E-Mail using POP3.ipynb",
      "provenance": []
    }
  },
  "nbformat": 4,
  "nbformat_minor": 0
}