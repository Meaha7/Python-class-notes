{
  "cells": [
    {
      "cell_type": "code",
      "execution_count": null,
      "metadata": {
        "id": "vnuykjddZoYI"
      },
      "outputs": [],
      "source": [
        "from imaplib import IMAP4_SSL\n",
        "import getpass\n",
        "import email"
      ]
    },
    {
      "cell_type": "code",
      "execution_count": null,
      "metadata": {
        "id": "r0oKUXN7ZoYO"
      },
      "outputs": [],
      "source": [
        "server = IMAP4_SSL('imap.gmail.com')"
      ]
    },
    {
      "cell_type": "code",
      "execution_count": null,
      "metadata": {
        "id": "9D39IQWDZoYQ",
        "outputId": "6d0bc329-5b18-4f6f-ec48-0cd2fc90eee0"
      },
      "outputs": [
        {
          "name": "stdout",
          "output_type": "stream",
          "text": [
            "Enter your password: ········\n"
          ]
        },
        {
          "data": {
            "text/plain": [
              "('OK', [b'kamakshi@cse.sastra.ac.in authenticated (Success)'])"
            ]
          },
          "execution_count": 10,
          "metadata": {},
          "output_type": "execute_result"
        }
      ],
      "source": [
        "server.login(\"kamakshi@cse.sastra.ac.in\", getpass.getpass(\"Enter your password: \"))"
      ]
    },
    {
      "cell_type": "code",
      "execution_count": null,
      "metadata": {
        "id": "WWz3kKF-ZoYX"
      },
      "outputs": [],
      "source": [
        "status, messages = server.select('INBOX')"
      ]
    },
    {
      "cell_type": "code",
      "execution_count": null,
      "metadata": {
        "id": "Bs3HGmx1ZoYY"
      },
      "outputs": [],
      "source": [
        "res, msg = server.fetch(messages[0], \"(RFC822)\")"
      ]
    },
    {
      "cell_type": "code",
      "execution_count": null,
      "metadata": {
        "id": "6IoNQmOaZoYZ",
        "outputId": "001cebf7-ed00-4fa6-d298-bca5360a2ea3"
      },
      "outputs": [
        {
          "name": "stdout",
          "output_type": "stream",
          "text": [
            "Return-Path: <kamakshi@cse.sastra.ac.in>\n",
            "Received: from [192.168.56.1] ([14.139.181.233])\n",
            "        by smtp.gmail.com with ESMTPSA id p21sm8543701pfh.43.2021.11.22.02.37.36\n",
            "        (version=TLS1_3 cipher=TLS_AES_256_GCM_SHA384 bits=256/256);\n",
            "        Mon, 22 Nov 2021 02:37:38 -0800 (PST)\n",
            "Message-ID: <619b72f2.1c69fb81.7e7f0.894d@mx.google.com>\n",
            "Date: Mon, 22 Nov 2021 02:37:38 -0800 (PST)\n",
            "From: kamakshi@cse.sastra.ac.in\n",
            "To: 123003115@sastra.ac.in, kamakshi@cse.sastra.ac.in\n",
            "Subject: Message From Python Code\n",
            "\n",
            "Hello Students! This is a test mail\n",
            "\n",
            "Return-Path: <kamakshi@cse.sastra.ac.in>\n",
            "Received: from [192.168.56.1] ([14.139.181.233])\n",
            "        by smtp.gmail.com with ESMTPSA id p21sm8543701pfh.43.2021.11.22.02.37.36\n",
            "        (version=TLS1_3 cipher=TLS_AES_256_GCM_SHA384 bits=256/256);\n",
            "        Mon, 22 Nov 2021 02:37:38 -0800 (PST)\n",
            "Message-ID: <619b72f2.1c69fb81.7e7f0.894d@mx.google.com>\n",
            "Date: Mon, 22 Nov 2021 02:37:38 -0800 (PST)\n",
            "From: kamakshi@cse.sastra.ac.in\n",
            "To: 123003115@sastra.ac.in, kamakshi@cse.sastra.ac.in\n",
            "Subject: Message From Python Code\n",
            "\n",
            "Hello Students! This is a test mail\n",
            "\n"
          ]
        }
      ],
      "source": [
        "for line in msg:\n",
        "    if (isinstance(line, tuple)):\n",
        "        msg = email.message_from_bytes(line[1])\n",
        "    print(msg)"
      ]
    },
    {
      "cell_type": "code",
      "execution_count": null,
      "metadata": {
        "id": "ylSh9kqPZoYa",
        "outputId": "81a2d961-6515-4253-a22f-37a2a188dd85"
      },
      "outputs": [
        {
          "data": {
            "text/plain": [
              "('BYE', [b'LOGOUT Requested'])"
            ]
          },
          "execution_count": 15,
          "metadata": {},
          "output_type": "execute_result"
        }
      ],
      "source": [
        "server.logout()"
      ]
    }
  ],
  "metadata": {
    "kernelspec": {
      "display_name": "Python 3",
      "language": "python",
      "name": "python3"
    },
    "language_info": {
      "codemirror_mode": {
        "name": "ipython",
        "version": 3
      },
      "file_extension": ".py",
      "mimetype": "text/x-python",
      "name": "python",
      "nbconvert_exporter": "python",
      "pygments_lexer": "ipython3",
      "version": "3.8.5"
    },
    "colab": {
      "name": "Receiving Mail using IMAP4.ipynb",
      "provenance": []
    }
  },
  "nbformat": 4,
  "nbformat_minor": 0
}