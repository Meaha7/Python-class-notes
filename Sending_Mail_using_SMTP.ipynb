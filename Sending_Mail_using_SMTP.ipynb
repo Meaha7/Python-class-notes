{
  "cells": [
    {
      "cell_type": "code",
      "execution_count": 2,
      "metadata": {
        "id": "KIZsC866WfPj"
      },
      "outputs": [],
      "source": [
        "from smtplib import SMTP\n",
        "import getpass\n",
        "#getpass method id useful for gettingpassword at the run time"
      ]
    },
    {
      "cell_type": "code",
      "execution_count": 3,
      "metadata": {
        "id": "kMQRBsXFWfPm"
      },
      "outputs": [],
      "source": [
        "#context = ssl.create_default_context()\n"
      ]
    },
    {
      "cell_type": "code",
      "execution_count": 4,
      "metadata": {
        "id": "rmeShjNzWfPm",
        "outputId": "c3a676ea-3c53-4d4e-877a-fd63bcdfb057",
        "colab": {
          "base_uri": "https://localhost:8080/"
        }
      },
      "outputs": [
        {
          "output_type": "execute_result",
          "data": {
            "text/plain": [
              "(250,\n",
              " b'smtp.gmail.com at your service, [104.154.52.96]\\nSIZE 35882577\\n8BITMIME\\nAUTH LOGIN PLAIN XOAUTH2 PLAIN-CLIENTTOKEN OAUTHBEARER XOAUTH\\nENHANCEDSTATUSCODES\\nPIPELINING\\nCHUNKING\\nSMTPUTF8')"
            ]
          },
          "metadata": {},
          "execution_count": 4
        }
      ],
      "source": [
        "server = SMTP('smtp.gmail.com', 587)\n",
        "server.starttls()\n",
        "#create a transport layer security one-ieto get secured connection between system and the mail server\n",
        "#ie whatever we send will be sent in an encrypted fashion -startls() \n",
        "server.ehlo()"
      ]
    },
    {
      "cell_type": "code",
      "execution_count": null,
      "metadata": {
        "id": "YSVlXjViWfPn",
        "outputId": "f578cd82-ae16-4698-e1ab-696782ab8b30"
      },
      "outputs": [
        {
          "name": "stdout",
          "output_type": "stream",
          "text": [
            "Enter your password: ········\n"
          ]
        },
        {
          "data": {
            "text/plain": [
              "(235, b'2.7.0 Accepted')"
            ]
          },
          "execution_count": 5,
          "metadata": {},
          "output_type": "execute_result"
        }
      ],
      "source": [
        "#Note go to less secured apps - https://myaccount.google.com/lesssecureapps and change it on !! Otherwise we get mail saying critical alert and wont let us login\n",
        "server.login(\"kamakshi@cse.sastra.ac.in\", getpass.getpass(\"Enter your password: \"))"
      ]
    },
    {
      "cell_type": "code",
      "execution_count": null,
      "metadata": {
        "id": "03rQoDgeWfPo",
        "outputId": "731c5c64-0e76-4682-9696-bfaf0c32bbb0"
      },
      "outputs": [
        {
          "name": "stdout",
          "output_type": "stream",
          "text": [
            "Email sent!\n"
          ]
        }
      ],
      "source": [
        "sent_from = \"kamakshi@cse.sastra.ac.in\"\n",
        "to = ['123003117@sastra.ac.in', 'kamakshi@cse.sastra.ac.in']\n",
        "subject = 'Message From Python Code'\n",
        "body = \"Hello Students! This is a test mail\"\n",
        "\n",
        "email_text = \"\"\"\\\n",
        "From: %s\n",
        "To: %s\n",
        "Subject: %s\n",
        "\n",
        "%s\n",
        "\"\"\" % (sent_from, \", \".join(to), subject, body)\n",
        "server.sendmail(sent_from, to, email_text)\n",
        "print ('Email sent!')"
      ]
    },
    {
      "cell_type": "code",
      "execution_count": null,
      "metadata": {
        "id": "TK2iLF9nWfPo",
        "outputId": "dc49f50a-f6c3-4099-da79-eebbc6130a57"
      },
      "outputs": [
        {
          "data": {
            "text/plain": [
              "(221, b'2.0.0 closing connection p21sm8543701pfh.43 - gsmtp')"
            ]
          },
          "execution_count": 7,
          "metadata": {},
          "output_type": "execute_result"
        }
      ],
      "source": [
        "server.quit()"
      ]
    }
  ],
  "metadata": {
    "kernelspec": {
      "display_name": "Python 3",
      "language": "python",
      "name": "python3"
    },
    "language_info": {
      "codemirror_mode": {
        "name": "ipython",
        "version": 3
      },
      "file_extension": ".py",
      "mimetype": "text/x-python",
      "name": "python",
      "nbconvert_exporter": "python",
      "pygments_lexer": "ipython3",
      "version": "3.8.5"
    },
    "colab": {
      "name": "Sending Mail using SMTP.ipynb",
      "provenance": []
    }
  },
  "nbformat": 4,
  "nbformat_minor": 0
}