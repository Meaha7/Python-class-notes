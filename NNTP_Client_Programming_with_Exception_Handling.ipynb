{
  "cells": [
    {
      "cell_type": "code",
      "execution_count": 7,
      "metadata": {
        "id": "FyrBp7qsOS5M"
      },
      "outputs": [],
      "source": [
        "from nntplib import NNTP, decode_header, NNTPPermanentError, NNTPTemporaryError\n",
        "from socket import gaierror"
      ]
    },
    {
      "cell_type": "code",
      "execution_count": 8,
      "metadata": {
        "id": "yK7Mbw64OS5S",
        "outputId": "46198861-6e75-4d2c-8b4b-4f1a792599a5",
        "colab": {
          "base_uri": "https://localhost:8080/"
        }
      },
      "outputs": [
        {
          "output_type": "stream",
          "name": "stdout",
          "text": [
            "Connected to host news.aioe.org\n"
          ]
        }
      ],
      "source": [
        "try:\n",
        "    n = NNTP('news.aioe.org')\n",
        "except gaierror as e:\n",
        "    print (\"ERROR: can't reach host news.aioe.org\" )\n",
        "    print(' (\"%s\")'% str(e))\n",
        "    #if no permissio to connect to that server -> access denied\n",
        "except NNTPPermanentError as e:\n",
        "    print(\"ERROR: access denied on news.aioe.org\" )\n",
        "    print(' (\"%s\")'% str(e))\n",
        "print(\"Connected to host news.aioe.org\")\n",
        "# gai error if it is not reachable"
      ]
    },
    {
      "cell_type": "code",
      "execution_count": 9,
      "metadata": {
        "id": "AVyDN0nVOS5V",
        "outputId": "5f541b96-da10-4c46-d168-2904094ef103",
        "colab": {
          "base_uri": "https://localhost:8080/"
        }
      },
      "outputs": [
        {
          "output_type": "stream",
          "name": "stdout",
          "text": [
            "Found newsgroup comp.lang.python\n"
          ]
        }
      ],
      "source": [
        "try:\n",
        "    resp, count, first, last, name = n.group('comp.lang.python')\n",
        "except NNTPPermanentError as e:\n",
        "    print(\"ERROR: cannot load group comp.lang.python\" )\n",
        "    #if we cant load the group / the particular group is not available\n",
        "    \n",
        "    print(' (\"%s\")'% str(e))\n",
        "    print(\" Server may require authentication\")\n",
        "    n.quit()\n",
        "except NNTPTemporaryError as e:\n",
        "    print(\"ERROR: Group comp.lang.python is unavailable\" )\n",
        "    print(' (\"%s\")'% str(e))\n",
        "    n.quit()\n",
        "print(\"Found newsgroup comp.lang.python\")"
      ]
    },
    {
      "cell_type": "code",
      "execution_count": 10,
      "metadata": {
        "id": "ZktnuWw6OS5W",
        "outputId": "fba3302e-ee62-42f8-b5f6-5c47acdb8073",
        "colab": {
          "base_uri": "https://localhost:8080/"
        }
      },
      "outputs": [
        {
          "output_type": "stream",
          "name": "stdout",
          "text": [
            "Found last article (#242452):\n",
            "\n",
            "From: Albert-Jan Roskam <sjeik_appie@hotmail.com>\n",
            "Subject: Pypy with Cython\n",
            "Date: Thu, 03 Feb 2022 16:32:58 +0100\n",
            "\n"
          ]
        }
      ],
      "source": [
        "rng = '%s-%s' %(last, last)\n",
        "rsp, frm = n.xhdr('from', rng)\n",
        "rsp, sub = n.xhdr('subject', rng)\n",
        "rsp, dat = n.xhdr('date', rng)\n",
        "print('''Found last article (#%s):\n",
        "\n",
        "From: %s\n",
        "Subject: %s\n",
        "Date: %s\n",
        "''' % (last, frm[0][1], sub[0][1], dat[0][1]))"
      ]
    },
    {
      "cell_type": "code",
      "execution_count": 11,
      "metadata": {
        "id": "VGYgEs1uOS5X",
        "outputId": "0c35e8c8-da34-4073-b038-efd836e4fe3d",
        "colab": {
          "base_uri": "https://localhost:8080/"
        }
      },
      "outputs": [
        {
          "output_type": "stream",
          "name": "stdout",
          "text": [
            "b'   Hi,'\n",
            "b'   I inherited a fairly large codebase that I need to port to Python 3. Since'\n",
            "b'   the program was running quite slow I am also running the unittests against'\n",
            "b\"   pypy3.8. It's a long running program that does lots of pairwise\"\n",
            "b'   comparisons of string values in two files. Some parts of the program (e.g'\n",
            "b'   a modulo 11 digit check) are implemented in Cython. Should I use pure'\n",
            "b'   Python instead when using Pypy? I compiled the Cython modules for pypy and'\n",
            "b\"   they work, but I'm afraid they might just slow things down.\"\n",
            "b'   Thanks!'\n",
            "b'   Albert-Jan'\n"
          ]
        }
      ],
      "source": [
        "ainfo = n.body(last)\n",
        "for x in ainfo[1].lines:\n",
        "    print(x)"
      ]
    },
    {
      "cell_type": "code",
      "execution_count": 12,
      "metadata": {
        "id": "F460K-R2OS5Y",
        "outputId": "602edd39-ee6d-4387-cc89-bd0eab974673",
        "colab": {
          "base_uri": "https://localhost:8080/",
          "height": 35
        }
      },
      "outputs": [
        {
          "output_type": "execute_result",
          "data": {
            "application/vnd.google.colaboratory.intrinsic+json": {
              "type": "string"
            },
            "text/plain": [
              "'205 Bye!'"
            ]
          },
          "metadata": {},
          "execution_count": 12
        }
      ],
      "source": [
        "n.quit()"
      ]
    }
  ],
  "metadata": {
    "kernelspec": {
      "display_name": "Python 3",
      "language": "python",
      "name": "python3"
    },
    "language_info": {
      "codemirror_mode": {
        "name": "ipython",
        "version": 3
      },
      "file_extension": ".py",
      "mimetype": "text/x-python",
      "name": "python",
      "nbconvert_exporter": "python",
      "pygments_lexer": "ipython3",
      "version": "3.8.5"
    },
    "colab": {
      "name": "NNTP Client Programming with Exception Handling.ipynb",
      "provenance": []
    }
  },
  "nbformat": 4,
  "nbformat_minor": 0
}